{
 "cells": [
  {
   "cell_type": "markdown",
   "metadata": {},
   "source": [
    "# Parsl Monitoring Demo"
   ]
  },
  {
   "cell_type": "markdown",
   "metadata": {},
   "source": [
    "Parsl can be configured to capture fine grain monitoring information about workflows and resource usage. To enable monitoring you must add the monitoring hub to the configuration.\n",
    "\n",
    "Note: in this example we set the resource monitoring interval to 3 seconds so that we can capture resource information from short running tasks. In practice you will likely use a longer interval."
   ]
  },
  {
   "cell_type": "code",
   "execution_count": null,
   "metadata": {
    "collapsed": true
   },
   "outputs": [],
   "source": [
    "import parsl\n",
    "from parsl import python_app\n",
    "from parsl.monitoring.monitoring import MonitoringHub\n",
    "from parsl.config import Config\n",
    "from parsl.executors import HighThroughputExecutor\n",
    "from parsl.providers import LocalProvider\n",
    "from parsl.addresses import address_by_hostname\n",
    "import logging"
   ]
  },
  {
   "cell_type": "code",
   "execution_count": null,
   "metadata": {
    "collapsed": true
   },
   "outputs": [],
   "source": [
    "config = Config(\n",
    "   executors=[\n",
    "       HighThroughputExecutor(\n",
    "           label=\"local_htex\",\n",
    "           address='127.0.0.1',\n",
    "           max_workers=4,\n",
    "           provider=LocalProvider(\n",
    "               init_blocks=1,\n",
    "               max_blocks=1,\n",
    "               worker_init='source activate parsl-issue',\n",
    "           )\n",
    "       )\n",
    "   ],\n",
    "   monitoring=MonitoringHub(\n",
    "       hub_address=address_by_hostname(),\n",
    "       hub_port=6553,\n",
    "       resource_monitoring_interval=1,\n",
    "   )\n",
    ")"
   ]
  },
  {
   "cell_type": "code",
   "execution_count": null,
   "metadata": {
    "collapsed": true
   },
   "outputs": [],
   "source": [
    "parsl.load(config)\n",
    "\n",
    "@python_app\n",
    "def inc(x):\n",
    "    import time\n",
    "    import random\n",
    "    dur = random.randint(1,10)\n",
    "    start = time.time()\n",
    "    while True:\n",
    "        if time.time() - start >= dur:\n",
    "            break\n",
    "        x += 1\n",
    "    return x\n",
    "\n",
    "@python_app\n",
    "def slow_add(inputs=[]):\n",
    "    import time\n",
    "    import random\n",
    "    time.sleep(random.randint(1,10))\n",
    "    res = sum(inputs)\n",
    "    return res"
   ]
  },
  {
   "cell_type": "code",
   "execution_count": null,
   "metadata": {},
   "outputs": [],
   "source": [
    "num_tasks = 4\n",
    "futures_1 = [inc(i) for i in range(0, num_tasks)]\n",
    "futures_2 = slow_add(inputs=futures_1)\n",
    "futures_3 = [inc(futures_2) for _ in range(0, num_tasks)]\n",
    "futures_4 = slow_add(inputs=futures_3)\n",
    "\n",
    "print(futures_4.result())\n",
    "print(\"Done\")"
   ]
  },
  {
   "cell_type": "code",
   "execution_count": null,
   "metadata": {},
   "outputs": [],
   "source": [
    "!ls"
   ]
  },
  {
   "cell_type": "code",
   "execution_count": null,
   "metadata": {
    "collapsed": true
   },
   "outputs": [],
   "source": [
    "import sqlite3\n",
    "import pandas as pd\n",
    "\n",
    "conn = sqlite3.connect('monitoring.db')"
   ]
  },
  {
   "cell_type": "code",
   "execution_count": null,
   "metadata": {},
   "outputs": [],
   "source": [
    "df_workflow = pd.read_sql_query('SELECT * from workflow', conn)\n",
    "df_workflow.head()"
   ]
  },
  {
   "cell_type": "code",
   "execution_count": null,
   "metadata": {},
   "outputs": [],
   "source": [
    "run_id = df_workflow['run_id'].iloc[-1]\n",
    "df_task = pd.read_sql_query('SELECT * from task where run_id=\"%s\"' % run_id, conn)\n",
    "df_task.head()"
   ]
  },
  {
   "cell_type": "code",
   "execution_count": null,
   "metadata": {},
   "outputs": [],
   "source": [
    "df_status = pd.read_sql_query('SELECT * from node where run_id=\"%s\"' % run_id, conn)\n",
    "df_status.head()"
   ]
  },
  {
   "cell_type": "code",
   "execution_count": null,
   "metadata": {},
   "outputs": [],
   "source": [
    "df_node = pd.read_sql_query('SELECT * from status where run_id=\"%s\"' % run_id, conn)\n",
    "df_node.head()"
   ]
  },
  {
   "cell_type": "code",
   "execution_count": null,
   "metadata": {},
   "outputs": [],
   "source": [
    "df_resource = pd.read_sql_query('SELECT * from resource where run_id=\"%s\"' % run_id, conn)\n",
    "df_resource.head()"
   ]
  },
  {
   "cell_type": "code",
   "execution_count": null,
   "metadata": {
    "collapsed": true
   },
   "outputs": [],
   "source": [
    "conn.close()"
   ]
  },
  {
   "cell_type": "code",
   "execution_count": 1,
   "metadata": {},
   "outputs": [
    {
     "name": "stdout",
     "output_type": "stream",
     "text": [
      "which: no parsl-visualize in (/software/python-2.7.12-nompi-el7-x86_64/bin:/home/zhuozhao/cctools/bin:/home/zhuozhao/google-cloud-sdk/bin:/software/slurm-current-el7-x86_64/bin:/bin:/home/zhuozhao/cctools/bin:/home/zhuozhao/google-cloud-sdk/bin:/software/postgresql-10.6-el7-x86_64/bin:/software/python-2.7.12-nompi-el7-x86_64/bin:/software/Anaconda3-5.3.0-el7-x86_64/bin:/bin:/software/git-2.10-el7-x86_64/bin:/software/subversion-1.9.4-el7-x86_64/bin:/software/bin:/srv/adm/bin:/usr/lib64/qt-3.3/bin:/usr/local/bin:/usr/bin:/usr/local/sbin:/usr/sbin:/usr/lpp/mmfs/bin:/home/zhuozhao/bin)\r\n"
     ]
    }
   ],
   "source": [
    "!which parsl-visualize"
   ]
  },
  {
   "cell_type": "code",
   "execution_count": null,
   "metadata": {
    "collapsed": true
   },
   "outputs": [],
   "source": []
  }
 ],
 "metadata": {
  "kernelspec": {
   "display_name": "Python (parsl-issue)",
   "language": "python",
   "name": "parsl-issue"
  },
  "language_info": {
   "codemirror_mode": {
    "name": "ipython",
    "version": 3
   },
   "file_extension": ".py",
   "mimetype": "text/x-python",
   "name": "python",
   "nbconvert_exporter": "python",
   "pygments_lexer": "ipython3",
   "version": "3.6.7"
  }
 },
 "nbformat": 4,
 "nbformat_minor": 2
}
